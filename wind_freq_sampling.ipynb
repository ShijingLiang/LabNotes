{
 "cells": [
  {
   "cell_type": "code",
   "execution_count": 1,
   "id": "548f0df0",
   "metadata": {
    "ExecuteTime": {
     "end_time": "2023-02-16T06:32:35.961040Z",
     "start_time": "2023-02-16T06:32:34.099037Z"
    }
   },
   "outputs": [],
   "source": [
    "import matplotlib.pyplot as plt\n",
    "%matplotlib inline\n",
    "import numpy as np\n",
    "import xarray as xr\n",
    "import scipy.stats as stats"
   ]
  },
  {
   "cell_type": "code",
   "execution_count": 2,
   "id": "60e6bd13",
   "metadata": {
    "ExecuteTime": {
     "end_time": "2023-02-16T06:32:53.265570Z",
     "start_time": "2023-02-16T06:32:53.201179Z"
    }
   },
   "outputs": [],
   "source": [
    "data = xr.open_dataset('E://hadisd.3.3.0.2022f_19310101-20230101_080001-99999.nc')"
   ]
  },
  {
   "cell_type": "code",
   "execution_count": 5,
   "id": "27d43693",
   "metadata": {
    "ExecuteTime": {
     "end_time": "2023-02-16T06:33:02.097684Z",
     "start_time": "2023-02-16T06:33:02.056700Z"
    },
    "scrolled": true
   },
   "outputs": [
    {
     "data": {
      "text/html": [
       "<div><svg style=\"position: absolute; width: 0; height: 0; overflow: hidden\">\n",
       "<defs>\n",
       "<symbol id=\"icon-database\" viewBox=\"0 0 32 32\">\n",
       "<path d=\"M16 0c-8.837 0-16 2.239-16 5v4c0 2.761 7.163 5 16 5s16-2.239 16-5v-4c0-2.761-7.163-5-16-5z\"></path>\n",
       "<path d=\"M16 17c-8.837 0-16-2.239-16-5v6c0 2.761 7.163 5 16 5s16-2.239 16-5v-6c0 2.761-7.163 5-16 5z\"></path>\n",
       "<path d=\"M16 26c-8.837 0-16-2.239-16-5v6c0 2.761 7.163 5 16 5s16-2.239 16-5v-6c0 2.761-7.163 5-16 5z\"></path>\n",
       "</symbol>\n",
       "<symbol id=\"icon-file-text2\" viewBox=\"0 0 32 32\">\n",
       "<path d=\"M28.681 7.159c-0.694-0.947-1.662-2.053-2.724-3.116s-2.169-2.030-3.116-2.724c-1.612-1.182-2.393-1.319-2.841-1.319h-15.5c-1.378 0-2.5 1.121-2.5 2.5v27c0 1.378 1.122 2.5 2.5 2.5h23c1.378 0 2.5-1.122 2.5-2.5v-19.5c0-0.448-0.137-1.23-1.319-2.841zM24.543 5.457c0.959 0.959 1.712 1.825 2.268 2.543h-4.811v-4.811c0.718 0.556 1.584 1.309 2.543 2.268zM28 29.5c0 0.271-0.229 0.5-0.5 0.5h-23c-0.271 0-0.5-0.229-0.5-0.5v-27c0-0.271 0.229-0.5 0.5-0.5 0 0 15.499-0 15.5 0v7c0 0.552 0.448 1 1 1h7v19.5z\"></path>\n",
       "<path d=\"M23 26h-14c-0.552 0-1-0.448-1-1s0.448-1 1-1h14c0.552 0 1 0.448 1 1s-0.448 1-1 1z\"></path>\n",
       "<path d=\"M23 22h-14c-0.552 0-1-0.448-1-1s0.448-1 1-1h14c0.552 0 1 0.448 1 1s-0.448 1-1 1z\"></path>\n",
       "<path d=\"M23 18h-14c-0.552 0-1-0.448-1-1s0.448-1 1-1h14c0.552 0 1 0.448 1 1s-0.448 1-1 1z\"></path>\n",
       "</symbol>\n",
       "</defs>\n",
       "</svg>\n",
       "<style>/* CSS stylesheet for displaying xarray objects in jupyterlab.\n",
       " *\n",
       " */\n",
       "\n",
       ":root {\n",
       "  --xr-font-color0: var(--jp-content-font-color0, rgba(0, 0, 0, 1));\n",
       "  --xr-font-color2: var(--jp-content-font-color2, rgba(0, 0, 0, 0.54));\n",
       "  --xr-font-color3: var(--jp-content-font-color3, rgba(0, 0, 0, 0.38));\n",
       "  --xr-border-color: var(--jp-border-color2, #e0e0e0);\n",
       "  --xr-disabled-color: var(--jp-layout-color3, #bdbdbd);\n",
       "  --xr-background-color: var(--jp-layout-color0, white);\n",
       "  --xr-background-color-row-even: var(--jp-layout-color1, white);\n",
       "  --xr-background-color-row-odd: var(--jp-layout-color2, #eeeeee);\n",
       "}\n",
       "\n",
       "html[theme=dark],\n",
       "body.vscode-dark {\n",
       "  --xr-font-color0: rgba(255, 255, 255, 1);\n",
       "  --xr-font-color2: rgba(255, 255, 255, 0.54);\n",
       "  --xr-font-color3: rgba(255, 255, 255, 0.38);\n",
       "  --xr-border-color: #1F1F1F;\n",
       "  --xr-disabled-color: #515151;\n",
       "  --xr-background-color: #111111;\n",
       "  --xr-background-color-row-even: #111111;\n",
       "  --xr-background-color-row-odd: #313131;\n",
       "}\n",
       "\n",
       ".xr-wrap {\n",
       "  display: block;\n",
       "  min-width: 300px;\n",
       "  max-width: 700px;\n",
       "}\n",
       "\n",
       ".xr-text-repr-fallback {\n",
       "  /* fallback to plain text repr when CSS is not injected (untrusted notebook) */\n",
       "  display: none;\n",
       "}\n",
       "\n",
       ".xr-header {\n",
       "  padding-top: 6px;\n",
       "  padding-bottom: 6px;\n",
       "  margin-bottom: 4px;\n",
       "  border-bottom: solid 1px var(--xr-border-color);\n",
       "}\n",
       "\n",
       ".xr-header > div,\n",
       ".xr-header > ul {\n",
       "  display: inline;\n",
       "  margin-top: 0;\n",
       "  margin-bottom: 0;\n",
       "}\n",
       "\n",
       ".xr-obj-type,\n",
       ".xr-array-name {\n",
       "  margin-left: 2px;\n",
       "  margin-right: 10px;\n",
       "}\n",
       "\n",
       ".xr-obj-type {\n",
       "  color: var(--xr-font-color2);\n",
       "}\n",
       "\n",
       ".xr-sections {\n",
       "  padding-left: 0 !important;\n",
       "  display: grid;\n",
       "  grid-template-columns: 150px auto auto 1fr 20px 20px;\n",
       "}\n",
       "\n",
       ".xr-section-item {\n",
       "  display: contents;\n",
       "}\n",
       "\n",
       ".xr-section-item input {\n",
       "  display: none;\n",
       "}\n",
       "\n",
       ".xr-section-item input + label {\n",
       "  color: var(--xr-disabled-color);\n",
       "}\n",
       "\n",
       ".xr-section-item input:enabled + label {\n",
       "  cursor: pointer;\n",
       "  color: var(--xr-font-color2);\n",
       "}\n",
       "\n",
       ".xr-section-item input:enabled + label:hover {\n",
       "  color: var(--xr-font-color0);\n",
       "}\n",
       "\n",
       ".xr-section-summary {\n",
       "  grid-column: 1;\n",
       "  color: var(--xr-font-color2);\n",
       "  font-weight: 500;\n",
       "}\n",
       "\n",
       ".xr-section-summary > span {\n",
       "  display: inline-block;\n",
       "  padding-left: 0.5em;\n",
       "}\n",
       "\n",
       ".xr-section-summary-in:disabled + label {\n",
       "  color: var(--xr-font-color2);\n",
       "}\n",
       "\n",
       ".xr-section-summary-in + label:before {\n",
       "  display: inline-block;\n",
       "  content: '►';\n",
       "  font-size: 11px;\n",
       "  width: 15px;\n",
       "  text-align: center;\n",
       "}\n",
       "\n",
       ".xr-section-summary-in:disabled + label:before {\n",
       "  color: var(--xr-disabled-color);\n",
       "}\n",
       "\n",
       ".xr-section-summary-in:checked + label:before {\n",
       "  content: '▼';\n",
       "}\n",
       "\n",
       ".xr-section-summary-in:checked + label > span {\n",
       "  display: none;\n",
       "}\n",
       "\n",
       ".xr-section-summary,\n",
       ".xr-section-inline-details {\n",
       "  padding-top: 4px;\n",
       "  padding-bottom: 4px;\n",
       "}\n",
       "\n",
       ".xr-section-inline-details {\n",
       "  grid-column: 2 / -1;\n",
       "}\n",
       "\n",
       ".xr-section-details {\n",
       "  display: none;\n",
       "  grid-column: 1 / -1;\n",
       "  margin-bottom: 5px;\n",
       "}\n",
       "\n",
       ".xr-section-summary-in:checked ~ .xr-section-details {\n",
       "  display: contents;\n",
       "}\n",
       "\n",
       ".xr-array-wrap {\n",
       "  grid-column: 1 / -1;\n",
       "  display: grid;\n",
       "  grid-template-columns: 20px auto;\n",
       "}\n",
       "\n",
       ".xr-array-wrap > label {\n",
       "  grid-column: 1;\n",
       "  vertical-align: top;\n",
       "}\n",
       "\n",
       ".xr-preview {\n",
       "  color: var(--xr-font-color3);\n",
       "}\n",
       "\n",
       ".xr-array-preview,\n",
       ".xr-array-data {\n",
       "  padding: 0 5px !important;\n",
       "  grid-column: 2;\n",
       "}\n",
       "\n",
       ".xr-array-data,\n",
       ".xr-array-in:checked ~ .xr-array-preview {\n",
       "  display: none;\n",
       "}\n",
       "\n",
       ".xr-array-in:checked ~ .xr-array-data,\n",
       ".xr-array-preview {\n",
       "  display: inline-block;\n",
       "}\n",
       "\n",
       ".xr-dim-list {\n",
       "  display: inline-block !important;\n",
       "  list-style: none;\n",
       "  padding: 0 !important;\n",
       "  margin: 0;\n",
       "}\n",
       "\n",
       ".xr-dim-list li {\n",
       "  display: inline-block;\n",
       "  padding: 0;\n",
       "  margin: 0;\n",
       "}\n",
       "\n",
       ".xr-dim-list:before {\n",
       "  content: '(';\n",
       "}\n",
       "\n",
       ".xr-dim-list:after {\n",
       "  content: ')';\n",
       "}\n",
       "\n",
       ".xr-dim-list li:not(:last-child):after {\n",
       "  content: ',';\n",
       "  padding-right: 5px;\n",
       "}\n",
       "\n",
       ".xr-has-index {\n",
       "  font-weight: bold;\n",
       "}\n",
       "\n",
       ".xr-var-list,\n",
       ".xr-var-item {\n",
       "  display: contents;\n",
       "}\n",
       "\n",
       ".xr-var-item > div,\n",
       ".xr-var-item label,\n",
       ".xr-var-item > .xr-var-name span {\n",
       "  background-color: var(--xr-background-color-row-even);\n",
       "  margin-bottom: 0;\n",
       "}\n",
       "\n",
       ".xr-var-item > .xr-var-name:hover span {\n",
       "  padding-right: 5px;\n",
       "}\n",
       "\n",
       ".xr-var-list > li:nth-child(odd) > div,\n",
       ".xr-var-list > li:nth-child(odd) > label,\n",
       ".xr-var-list > li:nth-child(odd) > .xr-var-name span {\n",
       "  background-color: var(--xr-background-color-row-odd);\n",
       "}\n",
       "\n",
       ".xr-var-name {\n",
       "  grid-column: 1;\n",
       "}\n",
       "\n",
       ".xr-var-dims {\n",
       "  grid-column: 2;\n",
       "}\n",
       "\n",
       ".xr-var-dtype {\n",
       "  grid-column: 3;\n",
       "  text-align: right;\n",
       "  color: var(--xr-font-color2);\n",
       "}\n",
       "\n",
       ".xr-var-preview {\n",
       "  grid-column: 4;\n",
       "}\n",
       "\n",
       ".xr-var-name,\n",
       ".xr-var-dims,\n",
       ".xr-var-dtype,\n",
       ".xr-preview,\n",
       ".xr-attrs dt {\n",
       "  white-space: nowrap;\n",
       "  overflow: hidden;\n",
       "  text-overflow: ellipsis;\n",
       "  padding-right: 10px;\n",
       "}\n",
       "\n",
       ".xr-var-name:hover,\n",
       ".xr-var-dims:hover,\n",
       ".xr-var-dtype:hover,\n",
       ".xr-attrs dt:hover {\n",
       "  overflow: visible;\n",
       "  width: auto;\n",
       "  z-index: 1;\n",
       "}\n",
       "\n",
       ".xr-var-attrs,\n",
       ".xr-var-data {\n",
       "  display: none;\n",
       "  background-color: var(--xr-background-color) !important;\n",
       "  padding-bottom: 5px !important;\n",
       "}\n",
       "\n",
       ".xr-var-attrs-in:checked ~ .xr-var-attrs,\n",
       ".xr-var-data-in:checked ~ .xr-var-data {\n",
       "  display: block;\n",
       "}\n",
       "\n",
       ".xr-var-data > table {\n",
       "  float: right;\n",
       "}\n",
       "\n",
       ".xr-var-name span,\n",
       ".xr-var-data,\n",
       ".xr-attrs {\n",
       "  padding-left: 25px !important;\n",
       "}\n",
       "\n",
       ".xr-attrs,\n",
       ".xr-var-attrs,\n",
       ".xr-var-data {\n",
       "  grid-column: 1 / -1;\n",
       "}\n",
       "\n",
       "dl.xr-attrs {\n",
       "  padding: 0;\n",
       "  margin: 0;\n",
       "  display: grid;\n",
       "  grid-template-columns: 125px auto;\n",
       "}\n",
       "\n",
       ".xr-attrs dt,\n",
       ".xr-attrs dd {\n",
       "  padding: 0;\n",
       "  margin: 0;\n",
       "  float: left;\n",
       "  padding-right: 10px;\n",
       "  width: auto;\n",
       "}\n",
       "\n",
       ".xr-attrs dt {\n",
       "  font-weight: normal;\n",
       "  grid-column: 1;\n",
       "}\n",
       "\n",
       ".xr-attrs dt:hover span {\n",
       "  display: inline-block;\n",
       "  background: var(--xr-background-color);\n",
       "  padding-right: 10px;\n",
       "}\n",
       "\n",
       ".xr-attrs dd {\n",
       "  grid-column: 2;\n",
       "  white-space: pre-wrap;\n",
       "  word-break: break-all;\n",
       "}\n",
       "\n",
       ".xr-icon-database,\n",
       ".xr-icon-file-text2 {\n",
       "  display: inline-block;\n",
       "  vertical-align: middle;\n",
       "  width: 1em;\n",
       "  height: 1.5em !important;\n",
       "  stroke-width: 0;\n",
       "  stroke: currentColor;\n",
       "  fill: currentColor;\n",
       "}\n",
       "</style><pre class='xr-text-repr-fallback'>&lt;xarray.Dataset&gt;\n",
       "Dimensions:                (coordinate_length: 1, time: 162806, test: 71, flagged: 19, reporting_v: 19, reporting_t: 1104, reporting_2: 2)\n",
       "Coordinates:\n",
       "    longitude              (coordinate_length) float64 -16.77\n",
       "    latitude               (coordinate_length) float64 32.7\n",
       "    elevation              (coordinate_length) float64 58.5\n",
       "  * time                   (time) datetime64[ns] 2004-05-10 ... 2022-12-31T23...\n",
       "Dimensions without coordinates: coordinate_length, test, flagged, reporting_v, reporting_t, reporting_2\n",
       "Data variables: (12/27)\n",
       "    station_id             |S12 b&#x27;000000000000&#x27;\n",
       "    temperatures           (time) float64 ...\n",
       "    dewpoints              (time) float64 ...\n",
       "    slp                    (time) float64 ...\n",
       "    stnlp                  (time) float64 ...\n",
       "    windspeeds             (time) float64 ...\n",
       "    ...                     ...\n",
       "    wind_gust              (time) float64 ...\n",
       "    past_sigwx1            (time) float64 ...\n",
       "    input_station_id       (time) object ...\n",
       "    quality_control_flags  (time, test) float64 ...\n",
       "    flagged_obs            (time, flagged) float64 ...\n",
       "    reporting_stats        (reporting_v, reporting_t, reporting_2) float64 -1...\n",
       "Attributes: (12/39)\n",
       "    title:                       HadISD\n",
       "    institution:                 Met Office Hadley Centre, Exeter, UK\n",
       "    source:                      HadISD data product\n",
       "    references:                  Dunn, 2019, Met Office Hadley Centre Technic...\n",
       "    creator_name:                Robert Dunn\n",
       "    creator_url:                 www.metoffice.gov.uk\n",
       "    ...                          ...\n",
       "    station_information:         Where station is a composite the station id ...\n",
       "    Conventions:                 CF-1.6\n",
       "    Metadata_Conventions:        Unidata Dataset Discovery v1.0, CF Discrete ...\n",
       "    featureType:                 timeSeries\n",
       "    processing_date:             06-Jan-2023\n",
       "    history:                     Created by mk_netcdf_files.py \\nDuplicate Mo...</pre><div class='xr-wrap' hidden><div class='xr-header'><div class='xr-obj-type'>xarray.Dataset</div></div><ul class='xr-sections'><li class='xr-section-item'><input id='section-b8b02f22-2d16-4a07-9219-ea17a266bee2' class='xr-section-summary-in' type='checkbox' disabled ><label for='section-b8b02f22-2d16-4a07-9219-ea17a266bee2' class='xr-section-summary'  title='Expand/collapse section'>Dimensions:</label><div class='xr-section-inline-details'><ul class='xr-dim-list'><li><span>coordinate_length</span>: 1</li><li><span class='xr-has-index'>time</span>: 162806</li><li><span>test</span>: 71</li><li><span>flagged</span>: 19</li><li><span>reporting_v</span>: 19</li><li><span>reporting_t</span>: 1104</li><li><span>reporting_2</span>: 2</li></ul></div><div class='xr-section-details'></div></li><li class='xr-section-item'><input id='section-5457c184-e413-4318-8a0a-a28c0cbde79e' class='xr-section-summary-in' type='checkbox'  checked><label for='section-5457c184-e413-4318-8a0a-a28c0cbde79e' class='xr-section-summary' >Coordinates: <span>(4)</span></label><div class='xr-section-inline-details'></div><div class='xr-section-details'><ul class='xr-var-list'><li class='xr-var-item'><div class='xr-var-name'><span>longitude</span></div><div class='xr-var-dims'>(coordinate_length)</div><div class='xr-var-dtype'>float64</div><div class='xr-var-preview xr-preview'>...</div><input id='attrs-dc22b883-16f9-4bdb-abcb-01904946d5ca' class='xr-var-attrs-in' type='checkbox' ><label for='attrs-dc22b883-16f9-4bdb-abcb-01904946d5ca' title='Show/Hide attributes'><svg class='icon xr-icon-file-text2'><use xlink:href='#icon-file-text2'></use></svg></label><input id='data-4fc26631-f161-46a9-8d59-6317338f2d38' class='xr-var-data-in' type='checkbox'><label for='data-4fc26631-f161-46a9-8d59-6317338f2d38' title='Show/Hide data repr'><svg class='icon xr-icon-database'><use xlink:href='#icon-database'></use></svg></label><div class='xr-var-attrs'><dl class='xr-attrs'><dt><span>standard_name :</span></dt><dd>longitude</dd><dt><span>long_name :</span></dt><dd>station longitude</dd><dt><span>units :</span></dt><dd>degrees_east</dd><dt><span>axis :</span></dt><dd>X</dd></dl></div><div class='xr-var-data'><pre>array([-16.774])</pre></div></li><li class='xr-var-item'><div class='xr-var-name'><span>latitude</span></div><div class='xr-var-dims'>(coordinate_length)</div><div class='xr-var-dtype'>float64</div><div class='xr-var-preview xr-preview'>...</div><input id='attrs-2edaf1cf-f4f1-47e9-9219-a9fa10fe37a3' class='xr-var-attrs-in' type='checkbox' ><label for='attrs-2edaf1cf-f4f1-47e9-9219-a9fa10fe37a3' title='Show/Hide attributes'><svg class='icon xr-icon-file-text2'><use xlink:href='#icon-file-text2'></use></svg></label><input id='data-b8a40bf7-4184-4730-81dc-c831c010e88a' class='xr-var-data-in' type='checkbox'><label for='data-b8a40bf7-4184-4730-81dc-c831c010e88a' title='Show/Hide data repr'><svg class='icon xr-icon-database'><use xlink:href='#icon-database'></use></svg></label><div class='xr-var-attrs'><dl class='xr-attrs'><dt><span>standard_name :</span></dt><dd>latitude</dd><dt><span>long_name :</span></dt><dd>station latitude</dd><dt><span>units :</span></dt><dd>degrees_north</dd><dt><span>axis :</span></dt><dd>Y</dd></dl></div><div class='xr-var-data'><pre>array([32.698])</pre></div></li><li class='xr-var-item'><div class='xr-var-name'><span>elevation</span></div><div class='xr-var-dims'>(coordinate_length)</div><div class='xr-var-dtype'>float64</div><div class='xr-var-preview xr-preview'>...</div><input id='attrs-8732139a-5ec9-4bf7-a0bc-f90a2a4d0360' class='xr-var-attrs-in' type='checkbox' ><label for='attrs-8732139a-5ec9-4bf7-a0bc-f90a2a4d0360' title='Show/Hide attributes'><svg class='icon xr-icon-file-text2'><use xlink:href='#icon-file-text2'></use></svg></label><input id='data-2e38fb17-d9c2-4a4f-a0fd-553c59d4b5db' class='xr-var-data-in' type='checkbox'><label for='data-2e38fb17-d9c2-4a4f-a0fd-553c59d4b5db' title='Show/Hide data repr'><svg class='icon xr-icon-database'><use xlink:href='#icon-database'></use></svg></label><div class='xr-var-attrs'><dl class='xr-attrs'><dt><span>standard_name :</span></dt><dd>surface_altitude</dd><dt><span>long_name :</span></dt><dd>vertical distance above the surface</dd><dt><span>units :</span></dt><dd>meters</dd><dt><span>axis :</span></dt><dd>Z</dd><dt><span>positive :</span></dt><dd>up</dd></dl></div><div class='xr-var-data'><pre>array([58.5])</pre></div></li><li class='xr-var-item'><div class='xr-var-name'><span class='xr-has-index'>time</span></div><div class='xr-var-dims'>(time)</div><div class='xr-var-dtype'>datetime64[ns]</div><div class='xr-var-preview xr-preview'>2004-05-10 ... 2022-12-31T23:00:00</div><input id='attrs-8418021b-16f3-4793-8baf-8b248d11e9d8' class='xr-var-attrs-in' type='checkbox' ><label for='attrs-8418021b-16f3-4793-8baf-8b248d11e9d8' title='Show/Hide attributes'><svg class='icon xr-icon-file-text2'><use xlink:href='#icon-file-text2'></use></svg></label><input id='data-a5342838-7efc-46dc-a9ba-b3b3a0bc408f' class='xr-var-data-in' type='checkbox'><label for='data-a5342838-7efc-46dc-a9ba-b3b3a0bc408f' title='Show/Hide data repr'><svg class='icon xr-icon-database'><use xlink:href='#icon-database'></use></svg></label><div class='xr-var-attrs'><dl class='xr-attrs'><dt><span>long_name :</span></dt><dd>time_of_measurement</dd><dt><span>valid_min :</span></dt><dd>0.0</dd><dt><span>standard_name :</span></dt><dd>time</dd></dl></div><div class='xr-var-data'><pre>array([&#x27;2004-05-10T00:00:00.000000000&#x27;, &#x27;2004-05-10T01:00:00.000000000&#x27;,\n",
       "       &#x27;2004-05-10T02:00:00.000000000&#x27;, ..., &#x27;2022-12-31T21:00:00.000000000&#x27;,\n",
       "       &#x27;2022-12-31T22:00:00.000000000&#x27;, &#x27;2022-12-31T23:00:00.000000000&#x27;],\n",
       "      dtype=&#x27;datetime64[ns]&#x27;)</pre></div></li></ul></div></li><li class='xr-section-item'><input id='section-83f9d604-bd3c-4c8b-8dd3-947aa861709c' class='xr-section-summary-in' type='checkbox'  ><label for='section-83f9d604-bd3c-4c8b-8dd3-947aa861709c' class='xr-section-summary' >Data variables: <span>(27)</span></label><div class='xr-section-inline-details'></div><div class='xr-section-details'><ul class='xr-var-list'><li class='xr-var-item'><div class='xr-var-name'><span>station_id</span></div><div class='xr-var-dims'>()</div><div class='xr-var-dtype'>|S12</div><div class='xr-var-preview xr-preview'>...</div><input id='attrs-a8dfc3f0-1858-4da4-b131-ecc4314e61f0' class='xr-var-attrs-in' type='checkbox' ><label for='attrs-a8dfc3f0-1858-4da4-b131-ecc4314e61f0' title='Show/Hide attributes'><svg class='icon xr-icon-file-text2'><use xlink:href='#icon-file-text2'></use></svg></label><input id='data-7a07e887-34eb-4b8b-a18c-3e0a735de480' class='xr-var-data-in' type='checkbox'><label for='data-7a07e887-34eb-4b8b-a18c-3e0a735de480' title='Show/Hide data repr'><svg class='icon xr-icon-database'><use xlink:href='#icon-database'></use></svg></label><div class='xr-var-attrs'><dl class='xr-attrs'><dt><span>long_name :</span></dt><dd>Station ID number</dd></dl></div><div class='xr-var-data'><pre>array(b&#x27;000000000000&#x27;, dtype=&#x27;|S12&#x27;)</pre></div></li><li class='xr-var-item'><div class='xr-var-name'><span>temperatures</span></div><div class='xr-var-dims'>(time)</div><div class='xr-var-dtype'>float64</div><div class='xr-var-preview xr-preview'>...</div><input id='attrs-0bf4c5a3-783d-4146-887f-9f8cb0c8aed1' class='xr-var-attrs-in' type='checkbox' ><label for='attrs-0bf4c5a3-783d-4146-887f-9f8cb0c8aed1' title='Show/Hide attributes'><svg class='icon xr-icon-file-text2'><use xlink:href='#icon-file-text2'></use></svg></label><input id='data-b5d58f01-d69b-4044-95e1-f5abf8761411' class='xr-var-data-in' type='checkbox'><label for='data-b5d58f01-d69b-4044-95e1-f5abf8761411' title='Show/Hide data repr'><svg class='icon xr-icon-database'><use xlink:href='#icon-database'></use></svg></label><div class='xr-var-attrs'><dl class='xr-attrs'><dt><span>long_name :</span></dt><dd>Dry bulb air temperature at screen height (~2m)</dd><dt><span>units :</span></dt><dd>degree_Celsius</dd><dt><span>flagged_value :</span></dt><dd>-2e+30</dd><dt><span>valid_min :</span></dt><dd>8.0</dd><dt><span>valid_max :</span></dt><dd>36.0</dd><dt><span>standard_name :</span></dt><dd>surface_temperature</dd><dt><span>cell_methods :</span></dt><dd>latitude: longitude: time: point (nearest to reporting hour)</dd></dl></div><div class='xr-var-data'><pre>[162806 values with dtype=float64]</pre></div></li><li class='xr-var-item'><div class='xr-var-name'><span>dewpoints</span></div><div class='xr-var-dims'>(time)</div><div class='xr-var-dtype'>float64</div><div class='xr-var-preview xr-preview'>...</div><input id='attrs-b570635a-e556-4e82-91ab-872ecd90d08c' class='xr-var-attrs-in' type='checkbox' ><label for='attrs-b570635a-e556-4e82-91ab-872ecd90d08c' title='Show/Hide attributes'><svg class='icon xr-icon-file-text2'><use xlink:href='#icon-file-text2'></use></svg></label><input id='data-67c21c47-7893-4e68-ad3c-6362c1873b30' class='xr-var-data-in' type='checkbox'><label for='data-67c21c47-7893-4e68-ad3c-6362c1873b30' title='Show/Hide data repr'><svg class='icon xr-icon-database'><use xlink:href='#icon-database'></use></svg></label><div class='xr-var-attrs'><dl class='xr-attrs'><dt><span>long_name :</span></dt><dd>Dew point temperature at screen height (~2m)</dd><dt><span>units :</span></dt><dd>degree_Celsius</dd><dt><span>flagged_value :</span></dt><dd>-2e+30</dd><dt><span>valid_min :</span></dt><dd>-16.0</dd><dt><span>valid_max :</span></dt><dd>28.0</dd><dt><span>standard_name :</span></dt><dd>dew_point_temperature</dd><dt><span>cell_methods :</span></dt><dd>latitude: longitude: time: point (nearest to reporting hour)</dd></dl></div><div class='xr-var-data'><pre>[162806 values with dtype=float64]</pre></div></li><li class='xr-var-item'><div class='xr-var-name'><span>slp</span></div><div class='xr-var-dims'>(time)</div><div class='xr-var-dtype'>float64</div><div class='xr-var-preview xr-preview'>...</div><input id='attrs-6f969844-bc5a-4ed7-b022-e018cb3b4f39' class='xr-var-attrs-in' type='checkbox' ><label for='attrs-6f969844-bc5a-4ed7-b022-e018cb3b4f39' title='Show/Hide attributes'><svg class='icon xr-icon-file-text2'><use xlink:href='#icon-file-text2'></use></svg></label><input id='data-50bd3d89-c198-4069-ab53-ebb8b9304a62' class='xr-var-data-in' type='checkbox'><label for='data-50bd3d89-c198-4069-ab53-ebb8b9304a62' title='Show/Hide data repr'><svg class='icon xr-icon-database'><use xlink:href='#icon-database'></use></svg></label><div class='xr-var-attrs'><dl class='xr-attrs'><dt><span>long_name :</span></dt><dd>Reported Sea Level Pressure at screen height (~2m)</dd><dt><span>units :</span></dt><dd>hPa</dd><dt><span>flagged_value :</span></dt><dd>-2e+30</dd><dt><span>valid_min :</span></dt><dd>1010.3</dd><dt><span>valid_max :</span></dt><dd>1013.6</dd><dt><span>standard_name :</span></dt><dd>air_pressure_at_sea_level</dd><dt><span>cell_methods :</span></dt><dd>latitude: longitude: time: point (nearest to reporting hour)</dd></dl></div><div class='xr-var-data'><pre>[162806 values with dtype=float64]</pre></div></li><li class='xr-var-item'><div class='xr-var-name'><span>stnlp</span></div><div class='xr-var-dims'>(time)</div><div class='xr-var-dtype'>float64</div><div class='xr-var-preview xr-preview'>...</div><input id='attrs-06027b77-41d3-4982-9f75-311da0cf2013' class='xr-var-attrs-in' type='checkbox' ><label for='attrs-06027b77-41d3-4982-9f75-311da0cf2013' title='Show/Hide attributes'><svg class='icon xr-icon-file-text2'><use xlink:href='#icon-file-text2'></use></svg></label><input id='data-9ce75644-8e8f-48d3-9a93-9a609c0f4ea3' class='xr-var-data-in' type='checkbox'><label for='data-9ce75644-8e8f-48d3-9a93-9a609c0f4ea3' title='Show/Hide data repr'><svg class='icon xr-icon-database'><use xlink:href='#icon-database'></use></svg></label><div class='xr-var-attrs'><dl class='xr-attrs'><dt><span>long_name :</span></dt><dd>Reported Station Level Pressure at screen height (~2m)</dd><dt><span>units :</span></dt><dd>hPa</dd><dt><span>flagged_value :</span></dt><dd>-2e+30</dd><dt><span>valid_min :</span></dt><dd>1010.3</dd><dt><span>valid_max :</span></dt><dd>1013.6</dd><dt><span>standard_name :</span></dt><dd>surface_air_pressure</dd><dt><span>cell_methods :</span></dt><dd>latitude: longitude: time: point (nearest to reporting hour)</dd></dl></div><div class='xr-var-data'><pre>[162806 values with dtype=float64]</pre></div></li><li class='xr-var-item'><div class='xr-var-name'><span>windspeeds</span></div><div class='xr-var-dims'>(time)</div><div class='xr-var-dtype'>float64</div><div class='xr-var-preview xr-preview'>...</div><input id='attrs-64f1ce11-df62-4900-8824-c89a19068e41' class='xr-var-attrs-in' type='checkbox' ><label for='attrs-64f1ce11-df62-4900-8824-c89a19068e41' title='Show/Hide attributes'><svg class='icon xr-icon-file-text2'><use xlink:href='#icon-file-text2'></use></svg></label><input id='data-a89aae72-a574-455e-996f-7d920bcc5ffc' class='xr-var-data-in' type='checkbox'><label for='data-a89aae72-a574-455e-996f-7d920bcc5ffc' title='Show/Hide data repr'><svg class='icon xr-icon-database'><use xlink:href='#icon-database'></use></svg></label><div class='xr-var-attrs'><dl class='xr-attrs'><dt><span>long_name :</span></dt><dd>Wind speed at mast height (~10m)</dd><dt><span>units :</span></dt><dd>meters per second</dd><dt><span>flagged_value :</span></dt><dd>-2e+30</dd><dt><span>valid_min :</span></dt><dd>0.0</dd><dt><span>valid_max :</span></dt><dd>21.1</dd><dt><span>standard_name :</span></dt><dd>wind_speed</dd><dt><span>cell_methods :</span></dt><dd>latitude: longitude: time: point (nearest to reporting hour)</dd></dl></div><div class='xr-var-data'><pre>[162806 values with dtype=float64]</pre></div></li><li class='xr-var-item'><div class='xr-var-name'><span>winddirs</span></div><div class='xr-var-dims'>(time)</div><div class='xr-var-dtype'>float64</div><div class='xr-var-preview xr-preview'>...</div><input id='attrs-e4786e69-6f5a-4bce-981b-5e43db6232fb' class='xr-var-attrs-in' type='checkbox' ><label for='attrs-e4786e69-6f5a-4bce-981b-5e43db6232fb' title='Show/Hide attributes'><svg class='icon xr-icon-file-text2'><use xlink:href='#icon-file-text2'></use></svg></label><input id='data-a75c5154-b58d-4bf0-8237-44ac3ea80912' class='xr-var-data-in' type='checkbox'><label for='data-a75c5154-b58d-4bf0-8237-44ac3ea80912' title='Show/Hide data repr'><svg class='icon xr-icon-database'><use xlink:href='#icon-database'></use></svg></label><div class='xr-var-attrs'><dl class='xr-attrs'><dt><span>long_name :</span></dt><dd>Wind Direction at mast height (~10m)</dd><dt><span>units :</span></dt><dd>degree</dd><dt><span>flagged_value :</span></dt><dd>-888</dd><dt><span>valid_min :</span></dt><dd>0</dd><dt><span>valid_max :</span></dt><dd>360</dd><dt><span>standard_name :</span></dt><dd>wind_from_direction</dd><dt><span>cell_methods :</span></dt><dd>latitude: longitude: time: point (nearest to reporting hour)</dd></dl></div><div class='xr-var-data'><pre>[162806 values with dtype=float64]</pre></div></li><li class='xr-var-item'><div class='xr-var-name'><span>total_cloud_cover</span></div><div class='xr-var-dims'>(time)</div><div class='xr-var-dtype'>float64</div><div class='xr-var-preview xr-preview'>...</div><input id='attrs-1c31ac8d-a560-4cf7-a871-6943fb8c4ef3' class='xr-var-attrs-in' type='checkbox' ><label for='attrs-1c31ac8d-a560-4cf7-a871-6943fb8c4ef3' title='Show/Hide attributes'><svg class='icon xr-icon-file-text2'><use xlink:href='#icon-file-text2'></use></svg></label><input id='data-75081665-a2e7-41e2-918b-dc94e811130b' class='xr-var-data-in' type='checkbox'><label for='data-75081665-a2e7-41e2-918b-dc94e811130b' title='Show/Hide data repr'><svg class='icon xr-icon-database'><use xlink:href='#icon-database'></use></svg></label><div class='xr-var-attrs'><dl class='xr-attrs'><dt><span>long_name :</span></dt><dd>Total cloud cover (oktas)</dd><dt><span>units :</span></dt><dd>1</dd><dt><span>flagged_value :</span></dt><dd>-888</dd><dt><span>valid_min :</span></dt><dd>0</dd><dt><span>valid_max :</span></dt><dd>8</dd><dt><span>standard_name :</span></dt><dd>cloud_area_fraction</dd><dt><span>cell_methods :</span></dt><dd>latitude: longitude: time: point (derived in priority order GA, GF, GD - see ISD documentation, nearest to reporting hour)</dd></dl></div><div class='xr-var-data'><pre>[162806 values with dtype=float64]</pre></div></li><li class='xr-var-item'><div class='xr-var-name'><span>low_cloud_cover</span></div><div class='xr-var-dims'>(time)</div><div class='xr-var-dtype'>float64</div><div class='xr-var-preview xr-preview'>...</div><input id='attrs-5c7264e7-5fe5-4685-930d-78ba595223ac' class='xr-var-attrs-in' type='checkbox' ><label for='attrs-5c7264e7-5fe5-4685-930d-78ba595223ac' title='Show/Hide attributes'><svg class='icon xr-icon-file-text2'><use xlink:href='#icon-file-text2'></use></svg></label><input id='data-205cf65b-a290-4dea-b20a-761e7ecc56a9' class='xr-var-data-in' type='checkbox'><label for='data-205cf65b-a290-4dea-b20a-761e7ecc56a9' title='Show/Hide data repr'><svg class='icon xr-icon-database'><use xlink:href='#icon-database'></use></svg></label><div class='xr-var-attrs'><dl class='xr-attrs'><dt><span>long_name :</span></dt><dd>Low cloud cover (oktas)</dd><dt><span>units :</span></dt><dd>1</dd><dt><span>flagged_value :</span></dt><dd>-888</dd><dt><span>valid_min :</span></dt><dd>0</dd><dt><span>valid_max :</span></dt><dd>8</dd><dt><span>standard_name :</span></dt><dd>low_type_cloud_area_fraction</dd><dt><span>cell_methods :</span></dt><dd>latitude: longitude: time: point (derived in priority order GA, GF, GD - see ISD documentation, nearest to reporting hour)</dd></dl></div><div class='xr-var-data'><pre>[162806 values with dtype=float64]</pre></div></li><li class='xr-var-item'><div class='xr-var-name'><span>mid_cloud_cover</span></div><div class='xr-var-dims'>(time)</div><div class='xr-var-dtype'>float64</div><div class='xr-var-preview xr-preview'>...</div><input id='attrs-dba5e97f-9a2f-4bf8-ba28-6e0d66d4a7b1' class='xr-var-attrs-in' type='checkbox' ><label for='attrs-dba5e97f-9a2f-4bf8-ba28-6e0d66d4a7b1' title='Show/Hide attributes'><svg class='icon xr-icon-file-text2'><use xlink:href='#icon-file-text2'></use></svg></label><input id='data-47e01800-6f2b-4532-83fd-6bda756427f9' class='xr-var-data-in' type='checkbox'><label for='data-47e01800-6f2b-4532-83fd-6bda756427f9' title='Show/Hide data repr'><svg class='icon xr-icon-database'><use xlink:href='#icon-database'></use></svg></label><div class='xr-var-attrs'><dl class='xr-attrs'><dt><span>long_name :</span></dt><dd>Mid cloud cover (oktas)</dd><dt><span>units :</span></dt><dd>1</dd><dt><span>flagged_value :</span></dt><dd>-888</dd><dt><span>valid_min :</span></dt><dd>0</dd><dt><span>valid_max :</span></dt><dd>8</dd><dt><span>standard_name :</span></dt><dd>medium_type_cloud_area_fraction</dd><dt><span>cell_methods :</span></dt><dd>latitude: longitude: time: point (derived in priority order GA, GF, GD - see ISD documentation, nearest to reporting hour)</dd></dl></div><div class='xr-var-data'><pre>[162806 values with dtype=float64]</pre></div></li><li class='xr-var-item'><div class='xr-var-name'><span>high_cloud_cover</span></div><div class='xr-var-dims'>(time)</div><div class='xr-var-dtype'>float64</div><div class='xr-var-preview xr-preview'>...</div><input id='attrs-67a63f43-8d0e-4ac4-a56a-7d280c278d6a' class='xr-var-attrs-in' type='checkbox' ><label for='attrs-67a63f43-8d0e-4ac4-a56a-7d280c278d6a' title='Show/Hide attributes'><svg class='icon xr-icon-file-text2'><use xlink:href='#icon-file-text2'></use></svg></label><input id='data-cb7b1ea1-e35d-4eca-996e-f4ed7b83c209' class='xr-var-data-in' type='checkbox'><label for='data-cb7b1ea1-e35d-4eca-996e-f4ed7b83c209' title='Show/Hide data repr'><svg class='icon xr-icon-database'><use xlink:href='#icon-database'></use></svg></label><div class='xr-var-attrs'><dl class='xr-attrs'><dt><span>long_name :</span></dt><dd>High cloud cover (oktas)</dd><dt><span>units :</span></dt><dd>1</dd><dt><span>flagged_value :</span></dt><dd>-888</dd><dt><span>valid_min :</span></dt><dd>0</dd><dt><span>valid_max :</span></dt><dd>8</dd><dt><span>standard_name :</span></dt><dd>high_type_cloud_area_fraction</dd><dt><span>cell_methods :</span></dt><dd>latitude: longitude: time: point (derived in priority order GA, GF, GD - see ISD documentation, nearest to reporting hour)</dd></dl></div><div class='xr-var-data'><pre>[162806 values with dtype=float64]</pre></div></li><li class='xr-var-item'><div class='xr-var-name'><span>precip1_depth</span></div><div class='xr-var-dims'>(time)</div><div class='xr-var-dtype'>float64</div><div class='xr-var-preview xr-preview'>...</div><input id='attrs-cd8fdb69-2253-491d-a3db-9b0230c5e5d4' class='xr-var-attrs-in' type='checkbox' ><label for='attrs-cd8fdb69-2253-491d-a3db-9b0230c5e5d4' title='Show/Hide attributes'><svg class='icon xr-icon-file-text2'><use xlink:href='#icon-file-text2'></use></svg></label><input id='data-94d2a4e0-9895-4754-8a97-ebb377e77302' class='xr-var-data-in' type='checkbox'><label for='data-94d2a4e0-9895-4754-8a97-ebb377e77302' title='Show/Hide data repr'><svg class='icon xr-icon-database'><use xlink:href='#icon-database'></use></svg></label><div class='xr-var-attrs'><dl class='xr-attrs'><dt><span>long_name :</span></dt><dd>Depth of Precipitation Reported in 1 hour (from all four ISD fields)</dd><dt><span>units :</span></dt><dd>mm</dd><dt><span>flagged_value :</span></dt><dd>-2e+30</dd><dt><span>valid_min :</span></dt><dd>0.0</dd><dt><span>valid_max :</span></dt><dd>999.8</dd><dt><span>standard_name :</span></dt><dd>lwe_thickness_of_precipitation_amount</dd><dt><span>cell_methods :</span></dt><dd>latitude: longitude: time: sum </dd></dl></div><div class='xr-var-data'><pre>[162806 values with dtype=float64]</pre></div></li><li class='xr-var-item'><div class='xr-var-name'><span>precip2_depth</span></div><div class='xr-var-dims'>(time)</div><div class='xr-var-dtype'>float64</div><div class='xr-var-preview xr-preview'>...</div><input id='attrs-7e815ace-d545-40d6-acfa-488f24d1babc' class='xr-var-attrs-in' type='checkbox' ><label for='attrs-7e815ace-d545-40d6-acfa-488f24d1babc' title='Show/Hide attributes'><svg class='icon xr-icon-file-text2'><use xlink:href='#icon-file-text2'></use></svg></label><input id='data-fc2e3e87-444a-4bc1-afa2-5fa285d7ce79' class='xr-var-data-in' type='checkbox'><label for='data-fc2e3e87-444a-4bc1-afa2-5fa285d7ce79' title='Show/Hide data repr'><svg class='icon xr-icon-database'><use xlink:href='#icon-database'></use></svg></label><div class='xr-var-attrs'><dl class='xr-attrs'><dt><span>long_name :</span></dt><dd>Depth of Precipitation Reported in 2 hour (from all four ISD fields)</dd><dt><span>units :</span></dt><dd>mm</dd><dt><span>flagged_value :</span></dt><dd>-2e+30</dd><dt><span>valid_min :</span></dt><dd>0.0</dd><dt><span>valid_max :</span></dt><dd>999.8</dd><dt><span>standard_name :</span></dt><dd>lwe_thickness_of_precipitation_amount</dd><dt><span>cell_methods :</span></dt><dd>latitude: longitude: time: sum </dd></dl></div><div class='xr-var-data'><pre>[162806 values with dtype=float64]</pre></div></li><li class='xr-var-item'><div class='xr-var-name'><span>precip3_depth</span></div><div class='xr-var-dims'>(time)</div><div class='xr-var-dtype'>float64</div><div class='xr-var-preview xr-preview'>...</div><input id='attrs-2a25b4d1-1df6-4d5e-8fa6-0bf68d23f344' class='xr-var-attrs-in' type='checkbox' ><label for='attrs-2a25b4d1-1df6-4d5e-8fa6-0bf68d23f344' title='Show/Hide attributes'><svg class='icon xr-icon-file-text2'><use xlink:href='#icon-file-text2'></use></svg></label><input id='data-9b569671-c302-4b49-b5e4-9d963d6cafe3' class='xr-var-data-in' type='checkbox'><label for='data-9b569671-c302-4b49-b5e4-9d963d6cafe3' title='Show/Hide data repr'><svg class='icon xr-icon-database'><use xlink:href='#icon-database'></use></svg></label><div class='xr-var-attrs'><dl class='xr-attrs'><dt><span>long_name :</span></dt><dd>Depth of Precipitation Reported in 3 hours (from all four ISD fields)</dd><dt><span>units :</span></dt><dd>mm</dd><dt><span>flagged_value :</span></dt><dd>-2e+30</dd><dt><span>valid_min :</span></dt><dd>0.0</dd><dt><span>valid_max :</span></dt><dd>999.8</dd><dt><span>standard_name :</span></dt><dd>lwe_thickness_of_precipitation_amount</dd><dt><span>cell_methods :</span></dt><dd>latitude: longitude: time: sum </dd></dl></div><div class='xr-var-data'><pre>[162806 values with dtype=float64]</pre></div></li><li class='xr-var-item'><div class='xr-var-name'><span>precip6_depth</span></div><div class='xr-var-dims'>(time)</div><div class='xr-var-dtype'>float64</div><div class='xr-var-preview xr-preview'>...</div><input id='attrs-9cfe0966-ec52-4aed-b66c-5d909e7fddf7' class='xr-var-attrs-in' type='checkbox' ><label for='attrs-9cfe0966-ec52-4aed-b66c-5d909e7fddf7' title='Show/Hide attributes'><svg class='icon xr-icon-file-text2'><use xlink:href='#icon-file-text2'></use></svg></label><input id='data-f7140f91-e9ba-442f-8da8-7fb01007ac4a' class='xr-var-data-in' type='checkbox'><label for='data-f7140f91-e9ba-442f-8da8-7fb01007ac4a' title='Show/Hide data repr'><svg class='icon xr-icon-database'><use xlink:href='#icon-database'></use></svg></label><div class='xr-var-attrs'><dl class='xr-attrs'><dt><span>long_name :</span></dt><dd>Depth of Precipitation Reported in 6 hour (from all four ISD fields)</dd><dt><span>units :</span></dt><dd>mm</dd><dt><span>flagged_value :</span></dt><dd>-2e+30</dd><dt><span>valid_min :</span></dt><dd>0.0</dd><dt><span>valid_max :</span></dt><dd>999.8</dd><dt><span>standard_name :</span></dt><dd>lwe_thickness_of_precipitation_amount</dd><dt><span>cell_methods :</span></dt><dd>latitude: longitude: time: sum </dd></dl></div><div class='xr-var-data'><pre>[162806 values with dtype=float64]</pre></div></li><li class='xr-var-item'><div class='xr-var-name'><span>precip9_depth</span></div><div class='xr-var-dims'>(time)</div><div class='xr-var-dtype'>float64</div><div class='xr-var-preview xr-preview'>...</div><input id='attrs-df5351e8-3a44-4cbb-b269-5135e26761f0' class='xr-var-attrs-in' type='checkbox' ><label for='attrs-df5351e8-3a44-4cbb-b269-5135e26761f0' title='Show/Hide attributes'><svg class='icon xr-icon-file-text2'><use xlink:href='#icon-file-text2'></use></svg></label><input id='data-7d5030c4-2b8a-4b61-9dcd-22b08c361529' class='xr-var-data-in' type='checkbox'><label for='data-7d5030c4-2b8a-4b61-9dcd-22b08c361529' title='Show/Hide data repr'><svg class='icon xr-icon-database'><use xlink:href='#icon-database'></use></svg></label><div class='xr-var-attrs'><dl class='xr-attrs'><dt><span>long_name :</span></dt><dd>Depth of Precipitation Reported in 9 hour (from all four ISD fields)</dd><dt><span>units :</span></dt><dd>mm</dd><dt><span>flagged_value :</span></dt><dd>-2e+30</dd><dt><span>valid_min :</span></dt><dd>0.0</dd><dt><span>valid_max :</span></dt><dd>999.8</dd><dt><span>standard_name :</span></dt><dd>lwe_thickness_of_precipitation_amount</dd><dt><span>cell_methods :</span></dt><dd>latitude: longitude: time: sum </dd></dl></div><div class='xr-var-data'><pre>[162806 values with dtype=float64]</pre></div></li><li class='xr-var-item'><div class='xr-var-name'><span>precip12_depth</span></div><div class='xr-var-dims'>(time)</div><div class='xr-var-dtype'>float64</div><div class='xr-var-preview xr-preview'>...</div><input id='attrs-53b4ea75-6a06-4199-b01c-f31a438a191e' class='xr-var-attrs-in' type='checkbox' ><label for='attrs-53b4ea75-6a06-4199-b01c-f31a438a191e' title='Show/Hide attributes'><svg class='icon xr-icon-file-text2'><use xlink:href='#icon-file-text2'></use></svg></label><input id='data-1b9682f4-a9b4-4a60-a54a-e80d9ab8a956' class='xr-var-data-in' type='checkbox'><label for='data-1b9682f4-a9b4-4a60-a54a-e80d9ab8a956' title='Show/Hide data repr'><svg class='icon xr-icon-database'><use xlink:href='#icon-database'></use></svg></label><div class='xr-var-attrs'><dl class='xr-attrs'><dt><span>long_name :</span></dt><dd>Depth of Precipitation Reported in 12 hour (from all four ISD fields)</dd><dt><span>units :</span></dt><dd>mm</dd><dt><span>flagged_value :</span></dt><dd>-2e+30</dd><dt><span>valid_min :</span></dt><dd>0.0</dd><dt><span>valid_max :</span></dt><dd>999.8</dd><dt><span>standard_name :</span></dt><dd>lwe_thickness_of_precipitation_amount</dd><dt><span>cell_methods :</span></dt><dd>latitude: longitude: time: sum </dd></dl></div><div class='xr-var-data'><pre>[162806 values with dtype=float64]</pre></div></li><li class='xr-var-item'><div class='xr-var-name'><span>precip15_depth</span></div><div class='xr-var-dims'>(time)</div><div class='xr-var-dtype'>float64</div><div class='xr-var-preview xr-preview'>...</div><input id='attrs-e2fe9643-d53a-4347-b026-20f9826a438c' class='xr-var-attrs-in' type='checkbox' ><label for='attrs-e2fe9643-d53a-4347-b026-20f9826a438c' title='Show/Hide attributes'><svg class='icon xr-icon-file-text2'><use xlink:href='#icon-file-text2'></use></svg></label><input id='data-8510940c-80f1-4d7f-9470-dcd4aadd3958' class='xr-var-data-in' type='checkbox'><label for='data-8510940c-80f1-4d7f-9470-dcd4aadd3958' title='Show/Hide data repr'><svg class='icon xr-icon-database'><use xlink:href='#icon-database'></use></svg></label><div class='xr-var-attrs'><dl class='xr-attrs'><dt><span>long_name :</span></dt><dd>Depth of Precipitation Reported in 15 hour (from all four ISD fields)</dd><dt><span>units :</span></dt><dd>mm</dd><dt><span>flagged_value :</span></dt><dd>-2e+30</dd><dt><span>valid_min :</span></dt><dd>0.0</dd><dt><span>valid_max :</span></dt><dd>999.8</dd><dt><span>standard_name :</span></dt><dd>lwe_thickness_of_precipitation_amount</dd><dt><span>cell_methods :</span></dt><dd>latitude: longitude: time: sum </dd></dl></div><div class='xr-var-data'><pre>[162806 values with dtype=float64]</pre></div></li><li class='xr-var-item'><div class='xr-var-name'><span>precip18_depth</span></div><div class='xr-var-dims'>(time)</div><div class='xr-var-dtype'>float64</div><div class='xr-var-preview xr-preview'>...</div><input id='attrs-6eeae24b-b4dc-44a3-aa4c-9b1a0cf9325e' class='xr-var-attrs-in' type='checkbox' ><label for='attrs-6eeae24b-b4dc-44a3-aa4c-9b1a0cf9325e' title='Show/Hide attributes'><svg class='icon xr-icon-file-text2'><use xlink:href='#icon-file-text2'></use></svg></label><input id='data-7f852b81-5ae2-4377-be8a-1ca5b947b440' class='xr-var-data-in' type='checkbox'><label for='data-7f852b81-5ae2-4377-be8a-1ca5b947b440' title='Show/Hide data repr'><svg class='icon xr-icon-database'><use xlink:href='#icon-database'></use></svg></label><div class='xr-var-attrs'><dl class='xr-attrs'><dt><span>long_name :</span></dt><dd>Depth of Precipitation Reported in 18 hour (from all four ISD fields)</dd><dt><span>units :</span></dt><dd>mm</dd><dt><span>flagged_value :</span></dt><dd>-2e+30</dd><dt><span>valid_min :</span></dt><dd>0.0</dd><dt><span>valid_max :</span></dt><dd>999.8</dd><dt><span>standard_name :</span></dt><dd>lwe_thickness_of_precipitation_amount</dd><dt><span>cell_methods :</span></dt><dd>latitude: longitude: time: sum </dd></dl></div><div class='xr-var-data'><pre>[162806 values with dtype=float64]</pre></div></li><li class='xr-var-item'><div class='xr-var-name'><span>precip24_depth</span></div><div class='xr-var-dims'>(time)</div><div class='xr-var-dtype'>float64</div><div class='xr-var-preview xr-preview'>...</div><input id='attrs-2c0c913c-7d8b-40e3-8fd1-7072fced79dd' class='xr-var-attrs-in' type='checkbox' ><label for='attrs-2c0c913c-7d8b-40e3-8fd1-7072fced79dd' title='Show/Hide attributes'><svg class='icon xr-icon-file-text2'><use xlink:href='#icon-file-text2'></use></svg></label><input id='data-b016f13b-8727-4c6b-8284-09d5bf4a5097' class='xr-var-data-in' type='checkbox'><label for='data-b016f13b-8727-4c6b-8284-09d5bf4a5097' title='Show/Hide data repr'><svg class='icon xr-icon-database'><use xlink:href='#icon-database'></use></svg></label><div class='xr-var-attrs'><dl class='xr-attrs'><dt><span>long_name :</span></dt><dd>Depth of Precipitation Reported in 24 hour (from all four ISD fields)</dd><dt><span>units :</span></dt><dd>mm</dd><dt><span>flagged_value :</span></dt><dd>-2e+30</dd><dt><span>valid_min :</span></dt><dd>0.0</dd><dt><span>valid_max :</span></dt><dd>999.8</dd><dt><span>standard_name :</span></dt><dd>lwe_thickness_of_precipitation_amount</dd><dt><span>cell_methods :</span></dt><dd>latitude: longitude: time: sum </dd></dl></div><div class='xr-var-data'><pre>[162806 values with dtype=float64]</pre></div></li><li class='xr-var-item'><div class='xr-var-name'><span>cloud_base</span></div><div class='xr-var-dims'>(time)</div><div class='xr-var-dtype'>float64</div><div class='xr-var-preview xr-preview'>...</div><input id='attrs-bdc995ee-8157-4c94-a2b7-21bb5a30ee94' class='xr-var-attrs-in' type='checkbox' ><label for='attrs-bdc995ee-8157-4c94-a2b7-21bb5a30ee94' title='Show/Hide attributes'><svg class='icon xr-icon-file-text2'><use xlink:href='#icon-file-text2'></use></svg></label><input id='data-bf68813e-0bb7-4b85-a85a-a40506406439' class='xr-var-data-in' type='checkbox'><label for='data-bf68813e-0bb7-4b85-a85a-a40506406439' title='Show/Hide data repr'><svg class='icon xr-icon-database'><use xlink:href='#icon-database'></use></svg></label><div class='xr-var-attrs'><dl class='xr-attrs'><dt><span>long_name :</span></dt><dd>Cloud base of lowest cloud layer</dd><dt><span>units :</span></dt><dd>meters</dd><dt><span>valid_min :</span></dt><dd>90.0</dd><dt><span>valid_max :</span></dt><dd>22000.0</dd><dt><span>standard_name :</span></dt><dd>cloud_base_altitude</dd><dt><span>cell_methods :</span></dt><dd>latitude: longitude: time: point (nearest to reporting hour)</dd></dl></div><div class='xr-var-data'><pre>[162806 values with dtype=float64]</pre></div></li><li class='xr-var-item'><div class='xr-var-name'><span>wind_gust</span></div><div class='xr-var-dims'>(time)</div><div class='xr-var-dtype'>float64</div><div class='xr-var-preview xr-preview'>...</div><input id='attrs-d514cdce-bcf5-4e96-8fb6-f291cfe8513f' class='xr-var-attrs-in' type='checkbox' ><label for='attrs-d514cdce-bcf5-4e96-8fb6-f291cfe8513f' title='Show/Hide attributes'><svg class='icon xr-icon-file-text2'><use xlink:href='#icon-file-text2'></use></svg></label><input id='data-3e1ba1d3-95cf-4ab3-97dc-712afa0f4550' class='xr-var-data-in' type='checkbox'><label for='data-3e1ba1d3-95cf-4ab3-97dc-712afa0f4550' title='Show/Hide data repr'><svg class='icon xr-icon-database'><use xlink:href='#icon-database'></use></svg></label><div class='xr-var-attrs'><dl class='xr-attrs'><dt><span>long_name :</span></dt><dd>Wind Gust Speed at mast height (~10m)</dd><dt><span>units :</span></dt><dd>meters per second</dd><dt><span>valid_min :</span></dt><dd>0.0</dd><dt><span>valid_max :</span></dt><dd>200.0</dd><dt><span>standard_name :</span></dt><dd>wind_speed_of_gust</dd><dt><span>cell_methods :</span></dt><dd>latitude: longitude: time: point (nearest to reporting hour)</dd></dl></div><div class='xr-var-data'><pre>[162806 values with dtype=float64]</pre></div></li><li class='xr-var-item'><div class='xr-var-name'><span>past_sigwx1</span></div><div class='xr-var-dims'>(time)</div><div class='xr-var-dtype'>float64</div><div class='xr-var-preview xr-preview'>...</div><input id='attrs-26c10601-1668-4177-89d6-2eed9f7b69ca' class='xr-var-attrs-in' type='checkbox' ><label for='attrs-26c10601-1668-4177-89d6-2eed9f7b69ca' title='Show/Hide attributes'><svg class='icon xr-icon-file-text2'><use xlink:href='#icon-file-text2'></use></svg></label><input id='data-3396c39c-83e6-474c-889c-21ceb73c22ca' class='xr-var-data-in' type='checkbox'><label for='data-3396c39c-83e6-474c-889c-21ceb73c22ca' title='Show/Hide data repr'><svg class='icon xr-icon-database'><use xlink:href='#icon-database'></use></svg></label><div class='xr-var-attrs'><dl class='xr-attrs'><dt><span>long_name :</span></dt><dd>Reported past significant weather phenomena</dd><dt><span>units :</span></dt><dd>1</dd><dt><span>valid_min :</span></dt><dd>0</dd><dt><span>valid_max :</span></dt><dd>9</dd><dt><span>cell_methods :</span></dt><dd>latitude: longitude: point (interval: 1 day)</dd></dl></div><div class='xr-var-data'><pre>[162806 values with dtype=float64]</pre></div></li><li class='xr-var-item'><div class='xr-var-name'><span>input_station_id</span></div><div class='xr-var-dims'>(time)</div><div class='xr-var-dtype'>object</div><div class='xr-var-preview xr-preview'>...</div><input id='attrs-704950eb-6df0-42a0-a6bf-1b4af8d1149b' class='xr-var-attrs-in' type='checkbox' ><label for='attrs-704950eb-6df0-42a0-a6bf-1b4af8d1149b' title='Show/Hide attributes'><svg class='icon xr-icon-file-text2'><use xlink:href='#icon-file-text2'></use></svg></label><input id='data-7ad2f08b-7263-42c6-81f2-b58319216da2' class='xr-var-data-in' type='checkbox'><label for='data-7ad2f08b-7263-42c6-81f2-b58319216da2' title='Show/Hide data repr'><svg class='icon xr-icon-database'><use xlink:href='#icon-database'></use></svg></label><div class='xr-var-attrs'><dl class='xr-attrs'><dt><span>long_name :</span></dt><dd>Primary source for timestep (may be multiple sources for composite stations). USAF-WBAN from ISD source</dd></dl></div><div class='xr-var-data'><pre>[162806 values with dtype=object]</pre></div></li><li class='xr-var-item'><div class='xr-var-name'><span>quality_control_flags</span></div><div class='xr-var-dims'>(time, test)</div><div class='xr-var-dtype'>float64</div><div class='xr-var-preview xr-preview'>...</div><input id='attrs-e48b4216-3307-4c38-8568-f5f66e06a48c' class='xr-var-attrs-in' type='checkbox' ><label for='attrs-e48b4216-3307-4c38-8568-f5f66e06a48c' title='Show/Hide attributes'><svg class='icon xr-icon-file-text2'><use xlink:href='#icon-file-text2'></use></svg></label><input id='data-deb6371b-d4fc-4c42-9932-fa712d60c300' class='xr-var-data-in' type='checkbox'><label for='data-deb6371b-d4fc-4c42-9932-fa712d60c300' title='Show/Hide data repr'><svg class='icon xr-icon-database'><use xlink:href='#icon-database'></use></svg></label><div class='xr-var-attrs'><dl class='xr-attrs'><dt><span>units :</span></dt><dd>1</dd><dt><span>long_name :</span></dt><dd>Quality Control status for individual obs</dd></dl></div><div class='xr-var-data'><pre>[11559226 values with dtype=float64]</pre></div></li><li class='xr-var-item'><div class='xr-var-name'><span>flagged_obs</span></div><div class='xr-var-dims'>(time, flagged)</div><div class='xr-var-dtype'>float64</div><div class='xr-var-preview xr-preview'>...</div><input id='attrs-e035ed9d-b6c1-4e4b-9e26-695da02d4820' class='xr-var-attrs-in' type='checkbox' ><label for='attrs-e035ed9d-b6c1-4e4b-9e26-695da02d4820' title='Show/Hide attributes'><svg class='icon xr-icon-file-text2'><use xlink:href='#icon-file-text2'></use></svg></label><input id='data-e93b914b-2b99-44ac-8f23-5e9d4a843240' class='xr-var-data-in' type='checkbox'><label for='data-e93b914b-2b99-44ac-8f23-5e9d4a843240' title='Show/Hide data repr'><svg class='icon xr-icon-database'><use xlink:href='#icon-database'></use></svg></label><div class='xr-var-attrs'><dl class='xr-attrs'><dt><span>units :</span></dt><dd>1</dd><dt><span>long_name :</span></dt><dd>Observation Values removed by QC flags temperatures dewpoints slp stnlp windspeeds winddirs total_cloud_cover low_cloud_cover mid_cloud_cover high_cloud_cover precip1_depth precip2_depth precip3_depth precip6_depth precip9_depth precip12_depth precip15_depth precip18_depth precip24_depth</dd><dt><span>cell_methods :</span></dt><dd>latitude: longitude: time: point</dd></dl></div><div class='xr-var-data'><pre>[3093314 values with dtype=float64]</pre></div></li><li class='xr-var-item'><div class='xr-var-name'><span>reporting_stats</span></div><div class='xr-var-dims'>(reporting_v, reporting_t, reporting_2)</div><div class='xr-var-dtype'>float64</div><div class='xr-var-preview xr-preview'>...</div><input id='attrs-6f21595d-87d5-4d51-a1f6-3d61f1257dab' class='xr-var-attrs-in' type='checkbox' ><label for='attrs-6f21595d-87d5-4d51-a1f6-3d61f1257dab' title='Show/Hide attributes'><svg class='icon xr-icon-file-text2'><use xlink:href='#icon-file-text2'></use></svg></label><input id='data-fdbe91d7-9c4e-4b4b-b4bb-b9d96a185973' class='xr-var-data-in' type='checkbox'><label for='data-fdbe91d7-9c4e-4b4b-b4bb-b9d96a185973' title='Show/Hide data repr'><svg class='icon xr-icon-database'><use xlink:href='#icon-database'></use></svg></label><div class='xr-var-attrs'><dl class='xr-attrs'><dt><span>units :</span></dt><dd>1</dd><dt><span>long_name :</span></dt><dd>Reporting frequency and accuracy for each month and variable in following order: temperatures dewpoints slp stnlp windspeeds winddirs total_cloud_cover low_cloud_cover mid_cloud_cover high_cloud_cover precip1_depth precip2_depth precip3_depth precip6_depth precip9_depth precip12_depth precip15_depth precip18_depth precip24_depth</dd></dl></div><div class='xr-var-data'><pre>array([[[-1., -1.],\n",
       "        [-1., -1.],\n",
       "        ...,\n",
       "        [ 1.,  1.],\n",
       "        [ 1.,  1.]],\n",
       "\n",
       "       [[-1., -1.],\n",
       "        [-1., -1.],\n",
       "        ...,\n",
       "        [ 1.,  1.],\n",
       "        [ 1.,  1.]],\n",
       "\n",
       "       ...,\n",
       "\n",
       "       [[-1., -1.],\n",
       "        [-1., -1.],\n",
       "        ...,\n",
       "        [-1., -1.],\n",
       "        [-1., -1.]],\n",
       "\n",
       "       [[-1., -1.],\n",
       "        [-1., -1.],\n",
       "        ...,\n",
       "        [-1., -1.],\n",
       "        [-1., -1.]]])</pre></div></li></ul></div></li><li class='xr-section-item'><input id='section-f9604d03-dcfb-40b5-99d0-75216c26b0aa' class='xr-section-summary-in' type='checkbox'  ><label for='section-f9604d03-dcfb-40b5-99d0-75216c26b0aa' class='xr-section-summary' >Attributes: <span>(39)</span></label><div class='xr-section-inline-details'></div><div class='xr-section-details'><dl class='xr-attrs'><dt><span>title :</span></dt><dd>HadISD</dd><dt><span>institution :</span></dt><dd>Met Office Hadley Centre, Exeter, UK</dd><dt><span>source :</span></dt><dd>HadISD data product</dd><dt><span>references :</span></dt><dd>Dunn, 2019, Met Office Hadley Centre Technical Note #103; Dunn, Willett, Parker &amp; Mitchell, 2016, Geosci. Instrum. Method. Data Syst., 5, 473-491</dd><dt><span>creator_name :</span></dt><dd>Robert Dunn</dd><dt><span>creator_url :</span></dt><dd>www.metoffice.gov.uk</dd><dt><span>creator_email :</span></dt><dd>robert.dunn@metoffice.gov.uk</dd><dt><span>keywords :</span></dt><dd>sub-daily, station, extremes, temperature, dewpoint, pressure, wind_speed, wind_direction, cloud_cover</dd><dt><span>summary :</span></dt><dd>Quality-controlled, sub-daily, station dataset containing temperature, dewpoint, pressure, wind speed &amp; direction and cloud cover.</dd><dt><span>hadisd_version :</span></dt><dd>3.3.0.2022f</dd><dt><span>isd_version :</span></dt><dd>---</dd><dt><span>isd_date_full :</span></dt><dd>3 February 2022</dd><dt><span>isd_date_update :</span></dt><dd>5 January 2023</dd><dt><span>licence :</span></dt><dd>HadISD is distributed under the Non Commercial Government Licence: http://www.nationalarchives.gov.uk/doc/non-commercial-government-licence/non-commercial-government-licence.htm. The data are available for non-commercial use with attribution to the data providers. Please cite Dunn et al (2012), Dunn et al (2014), Dunn et al (2016) and Smith et al (2011) and state the version used. This product may contain data which are governed by WMO Policy following WMO Resolution 40 Annex 1 alongside additional data that may have restrictions placed on their commercial use by the data owners. Any redistribution of this product should be accompanied by a similar statement of usage policy.</dd><dt><span>processing_level :</span></dt><dd>Quality controlled timeseries at station level</dd><dt><span>hadisd_time_coverage_start :</span></dt><dd>1931-01-01T00:00Z</dd><dt><span>hadisd_time_coverage_end :</span></dt><dd>2023-01-01T00:00Z</dd><dt><span>cdm_data_type :</span></dt><dd>station</dd><dt><span>acknowledgement :</span></dt><dd>RJHD was supported by the Joint BEIS/Defra Met Office Hadley Centre Climate Programme (GA01101).</dd><dt><span>geospatial_lat_max :</span></dt><dd>32.698</dd><dt><span>geospatial_lat_min :</span></dt><dd>32.698</dd><dt><span>geospatial_lat_units :</span></dt><dd>degrees</dd><dt><span>geospatial_lon_max :</span></dt><dd>-16.774</dd><dt><span>geospatial_lon_min :</span></dt><dd>-16.774</dd><dt><span>geospatial_lon_units :</span></dt><dd>degrees</dd><dt><span>geospatial_vertical_max :</span></dt><dd>58.5</dd><dt><span>geospatial_vertical_min :</span></dt><dd>58.5</dd><dt><span>geospatial_vertical_units :</span></dt><dd>m</dd><dt><span>station_id :</span></dt><dd>080001-99999</dd><dt><span>time_coverage_start :</span></dt><dd>2004-05-10T00:00Z</dd><dt><span>time_coverage_end :</span></dt><dd>2022-12-31T23:00Z</dd><dt><span>date_created :</span></dt><dd>2023-01-06, 08:21</dd><dt><span>qc_code_version :</span></dt><dd> 269</dd><dt><span>station_information :</span></dt><dd>Where station is a composite the station id refers to the primary source used in the timestep and does apply to all elements</dd><dt><span>Conventions :</span></dt><dd>CF-1.6</dd><dt><span>Metadata_Conventions :</span></dt><dd>Unidata Dataset Discovery v1.0, CF Discrete Sampling Geometries Conventions</dd><dt><span>featureType :</span></dt><dd>timeSeries</dd><dt><span>processing_date :</span></dt><dd>06-Jan-2023</dd><dt><span>history :</span></dt><dd>Created by mk_netcdf_files.py \n",
       "Duplicate Months Check 2023-01-06, 05:37 \n",
       "Isolated Odd Cluster Check 2023-01-06, 05:37 \n",
       "Frequent Values Check 2023-01-06, 05:37 \n",
       "Diurnal Cycle Check 2023-01-06, 05:37 \n",
       "Distributional Gap Check 2023-01-06, 05:37 \n",
       "World Record Check 2023-01-06, 05:37 \n",
       "Streak Check 2023-01-06, 05:38 \n",
       "Climatological Check 2023-01-06, 05:38 \n",
       "Spike Check 2023-01-06, 05:38 \n",
       "Temperature-Humidity Cross Check 2023-01-06, 05:39 \n",
       "Cloud - Logical Cross Check 2023-01-06, 05:39 \n",
       "Excess Variance Check 2023-01-06, 05:39 \n",
       "Pressure Cross Check 2023-01-06, 05:39 \n",
       "Precipitation Cross Check 2023-01-06, 05:39 \n",
       "Unflagging - temperatures 2023-01-06, 08:21 \n",
       "Unflagging - dewpoints 2023-01-06, 08:21 \n",
       "Unflagging - slp 2023-01-06, 08:21 \n",
       "Neighbour Outlier Check 2023-01-06, 08:21 \n",
       "Clean Up Months 2023-01-06, 08:21 \n",
       "Masking 2023-01-06, 08:21 \n",
       "</dd></dl></div></li></ul></div></div>"
      ],
      "text/plain": [
       "<xarray.Dataset>\n",
       "Dimensions:                (coordinate_length: 1, time: 162806, test: 71, flagged: 19, reporting_v: 19, reporting_t: 1104, reporting_2: 2)\n",
       "Coordinates:\n",
       "    longitude              (coordinate_length) float64 ...\n",
       "    latitude               (coordinate_length) float64 ...\n",
       "    elevation              (coordinate_length) float64 ...\n",
       "  * time                   (time) datetime64[ns] 2004-05-10 ... 2022-12-31T23...\n",
       "Dimensions without coordinates: coordinate_length, test, flagged, reporting_v, reporting_t, reporting_2\n",
       "Data variables: (12/27)\n",
       "    station_id             |S12 ...\n",
       "    temperatures           (time) float64 ...\n",
       "    dewpoints              (time) float64 ...\n",
       "    slp                    (time) float64 ...\n",
       "    stnlp                  (time) float64 ...\n",
       "    windspeeds             (time) float64 ...\n",
       "    ...                     ...\n",
       "    wind_gust              (time) float64 ...\n",
       "    past_sigwx1            (time) float64 ...\n",
       "    input_station_id       (time) object ...\n",
       "    quality_control_flags  (time, test) float64 ...\n",
       "    flagged_obs            (time, flagged) float64 ...\n",
       "    reporting_stats        (reporting_v, reporting_t, reporting_2) float64 ...\n",
       "Attributes: (12/39)\n",
       "    title:                       HadISD\n",
       "    institution:                 Met Office Hadley Centre, Exeter, UK\n",
       "    source:                      HadISD data product\n",
       "    references:                  Dunn, 2019, Met Office Hadley Centre Technic...\n",
       "    creator_name:                Robert Dunn\n",
       "    creator_url:                 www.metoffice.gov.uk\n",
       "    ...                          ...\n",
       "    station_information:         Where station is a composite the station id ...\n",
       "    Conventions:                 CF-1.6\n",
       "    Metadata_Conventions:        Unidata Dataset Discovery v1.0, CF Discrete ...\n",
       "    featureType:                 timeSeries\n",
       "    processing_date:             06-Jan-2023\n",
       "    history:                     Created by mk_netcdf_files.py \\nDuplicate Mo..."
      ]
     },
     "execution_count": 5,
     "metadata": {},
     "output_type": "execute_result"
    }
   ],
   "source": [
    "data"
   ]
  },
  {
   "cell_type": "markdown",
   "id": "0867e65c",
   "metadata": {},
   "source": [
    "# Gathering data by year  "
   ]
  },
  {
   "cell_type": "code",
   "execution_count": 10,
   "id": "39ce414a",
   "metadata": {
    "ExecuteTime": {
     "end_time": "2023-02-16T06:34:28.791326Z",
     "start_time": "2023-02-16T06:34:28.661328Z"
    }
   },
   "outputs": [],
   "source": [
    "year_group = list(data['windspeeds'].groupby(data.time.dt.year))"
   ]
  },
  {
   "cell_type": "code",
   "execution_count": 16,
   "id": "cb1ed445",
   "metadata": {
    "ExecuteTime": {
     "end_time": "2023-02-16T06:36:32.928575Z",
     "start_time": "2023-02-16T06:36:32.922578Z"
    }
   },
   "outputs": [],
   "source": [
    "sample_times = list(map(lambda x: len(x[1]), year_group))"
   ]
  },
  {
   "cell_type": "markdown",
   "id": "3834469f",
   "metadata": {},
   "source": [
    "**At different years, the observation times are different**  \n",
    "Some have more frequent observing times,while others have less frequent observations. We want to sample data to have a nearly consistent size."
   ]
  },
  {
   "cell_type": "code",
   "execution_count": 30,
   "id": "2d862472",
   "metadata": {
    "ExecuteTime": {
     "end_time": "2023-02-16T06:46:50.455795Z",
     "start_time": "2023-02-16T06:46:50.445797Z"
    }
   },
   "outputs": [
    {
     "data": {
      "text/plain": [
       "([5592,\n",
       "  8709,\n",
       "  8729,\n",
       "  8719,\n",
       "  8767,\n",
       "  8731,\n",
       "  8747,\n",
       "  8739,\n",
       "  8773,\n",
       "  8752,\n",
       "  8735,\n",
       "  8747,\n",
       "  8756,\n",
       "  8743,\n",
       "  8732,\n",
       "  8727,\n",
       "  8754,\n",
       "  8636,\n",
       "  8718],\n",
       " 19)"
      ]
     },
     "execution_count": 30,
     "metadata": {},
     "output_type": "execute_result"
    }
   ],
   "source": [
    "sample_times"
   ]
  },
  {
   "cell_type": "markdown",
   "id": "9eb66b08",
   "metadata": {},
   "source": [
    "# The wind speed generally follows the Weibull distribution"
   ]
  },
  {
   "cell_type": "code",
   "execution_count": 77,
   "id": "472d1853",
   "metadata": {
    "ExecuteTime": {
     "end_time": "2023-02-16T07:44:58.778894Z",
     "start_time": "2023-02-16T07:44:57.795894Z"
    }
   },
   "outputs": [
    {
     "data": {
      "image/png": "[encoded data removed]",
      "text/plain": [
       "<Figure size 864x432 with 9 Axes>"
      ]
     },
     "metadata": {
      "needs_background": "light"
     },
     "output_type": "display_data"
    }
   ],
   "source": [
    "fig,axs = plt.subplots(3,3,figsize=(12,6),tight_layout=True)\n",
    "for i,ax in (zip(np.arange(9),axs.flat)):\n",
    "    ax.hist(year_group[i][1].values,bins=np.arange(0,20,.5),density=True)\n",
    "    ax.set_title(year_group[i][0])"
   ]
  },
  {
   "cell_type": "markdown",
   "id": "1b51fd3a",
   "metadata": {},
   "source": [
    "**Let's fit the PDF with data to get four parameters (a, c, loc, scale) of the explicit expression of Weibull distribution**"
   ]
  },
  {
   "cell_type": "code",
   "execution_count": 63,
   "id": "3a727b9f",
   "metadata": {
    "ExecuteTime": {
     "end_time": "2023-02-16T07:16:18.514664Z",
     "start_time": "2023-02-16T07:16:18.252693Z"
    }
   },
   "outputs": [],
   "source": [
    "a,c,loc,scale = stats.exponweib.fit(year_group[0][1].dropna(dim='time').values)"
   ]
  },
  {
   "cell_type": "code",
   "execution_count": 74,
   "id": "d8928e4e",
   "metadata": {
    "ExecuteTime": {
     "end_time": "2023-02-16T07:30:06.853336Z",
     "start_time": "2023-02-16T07:30:06.837367Z"
    }
   },
   "outputs": [
    {
     "data": {
      "text/plain": [
       "(0.9413311073736765, 1.985378001491422, -0.1286389036915867, 4.854279150914358)"
      ]
     },
     "execution_count": 74,
     "metadata": {},
     "output_type": "execute_result"
    }
   ],
   "source": [
    "a,c,loc,scale"
   ]
  },
  {
   "cell_type": "markdown",
   "id": "08adb247",
   "metadata": {},
   "source": [
    "**The wind speed distribution can be obtained, denoted as \"rv\"**"
   ]
  },
  {
   "cell_type": "code",
   "execution_count": 67,
   "id": "5b2262da",
   "metadata": {
    "ExecuteTime": {
     "end_time": "2023-02-16T07:17:57.870351Z",
     "start_time": "2023-02-16T07:17:57.853381Z"
    }
   },
   "outputs": [],
   "source": [
    "rv = stats.exponweib(a,c,loc,scale)"
   ]
  },
  {
   "cell_type": "code",
   "execution_count": 146,
   "id": "606e1725",
   "metadata": {
    "ExecuteTime": {
     "end_time": "2023-02-16T08:51:41.534325Z",
     "start_time": "2023-02-16T08:51:41.386295Z"
    }
   },
   "outputs": [
    {
     "data": {
      "text/plain": [
       "Text(0, 0.5, 'pdf')"
      ]
     },
     "execution_count": 146,
     "metadata": {},
     "output_type": "execute_result"
    },
    {
     "data": {
      "image/png": "[encoded data removed]",
      "text/plain": [
       "<Figure size 432x288 with 1 Axes>"
      ]
     },
     "metadata": {
      "needs_background": "light"
     },
     "output_type": "display_data"
    }
   ],
   "source": [
    "fig,ax = plt.subplots()\n",
    "x = np.arange(0,18,.5)\n",
    "ax.plot(x,rv.pdf(x),lw=2,color='r')\n",
    "ax.hist(year_group[0][1].values,bins=np.arange(0,18,.5),density=True)\n",
    "plt.xlabel('SWS')\n",
    "plt.ylabel('pdf')"
   ]
  },
  {
   "cell_type": "markdown",
   "id": "a3f7943c",
   "metadata": {},
   "source": [
    "# To get samples from a given distribution"
   ]
  },
  {
   "cell_type": "markdown",
   "id": "bba3454a",
   "metadata": {},
   "source": [
    "**Inverse CDF**"
   ]
  },
  {
   "cell_type": "code",
   "execution_count": 147,
   "id": "8c834c8b",
   "metadata": {
    "ExecuteTime": {
     "end_time": "2023-02-16T08:51:51.236081Z",
     "start_time": "2023-02-16T08:51:51.122973Z"
    }
   },
   "outputs": [
    {
     "data": {
      "text/plain": [
       "Text(0, 0.5, 'cdf')"
      ]
     },
     "execution_count": 147,
     "metadata": {},
     "output_type": "execute_result"
    },
    {
     "data": {
      "image/png": "[encoded data removed]",
      "text/plain": [
       "<Figure size 432x288 with 1 Axes>"
      ]
     },
     "metadata": {
      "needs_background": "light"
     },
     "output_type": "display_data"
    }
   ],
   "source": [
    "plt.plot(x,rv.cdf(x))\n",
    "plt.xlabel('SWS')\n",
    "plt.ylabel('cdf')"
   ]
  },
  {
   "cell_type": "markdown",
   "id": "63ef7676",
   "metadata": {},
   "source": [
    "**Here using \"rv.rvs(size=#)\" can give certain size of samples from the given distribution**"
   ]
  },
  {
   "cell_type": "code",
   "execution_count": 158,
   "id": "e4cbbf11",
   "metadata": {
    "ExecuteTime": {
     "end_time": "2023-02-16T08:58:11.108539Z",
     "start_time": "2023-02-16T08:58:10.979407Z"
    }
   },
   "outputs": [
    {
     "data": {
      "text/plain": [
       "(array([0.05923695, 0.14156627, 0.16365462, 0.16064257, 0.1626506 ,\n",
       "        0.11646586, 0.08835341, 0.04718876, 0.03815261, 0.01305221,\n",
       "        0.00401606, 0.00401606, 0.        , 0.00100402, 0.        ,\n",
       "        0.        , 0.        ]),\n",
       " array([ 0,  1,  2,  3,  4,  5,  6,  7,  8,  9, 10, 11, 12, 13, 14, 15, 16,\n",
       "        17]),\n",
       " <BarContainer object of 17 artists>)"
      ]
     },
     "execution_count": 158,
     "metadata": {},
     "output_type": "execute_result"
    },
    {
     "data": {
      "image/png": "[encoded data removed]",
      "text/plain": [
       "<Figure size 432x288 with 1 Axes>"
      ]
     },
     "metadata": {
      "needs_background": "light"
     },
     "output_type": "display_data"
    }
   ],
   "source": [
    "fig,ax = plt.subplots()\n",
    "ax.hist(rv.rvs(size=1000),bins=np.arange(0,18,1),density=True)"
   ]
  },
  {
   "cell_type": "code",
   "execution_count": null,
   "id": "3a49ebd1",
   "metadata": {},
   "outputs": [],
   "source": []
  }
 ],
 "metadata": {
  "kernelspec": {
   "display_name": "Python 3 (ipykernel)",
   "language": "python",
   "name": "python3"
  },
  "language_info": {
   "codemirror_mode": {
    "name": "ipython",
    "version": 3
   },
   "file_extension": ".py",
   "mimetype": "text/x-python",
   "name": "python",
   "nbconvert_exporter": "python",
   "pygments_lexer": "ipython3",
   "version": "3.10.4"
  },
  "toc": {
   "base_numbering": 1,
   "nav_menu": {},
   "number_sections": true,
   "sideBar": true,
   "skip_h1_title": false,
   "title_cell": "Table of Contents",
   "title_sidebar": "Contents",
   "toc_cell": false,
   "toc_position": {},
   "toc_section_display": true,
   "toc_window_display": false
  }
 },
 "nbformat": 4,
 "nbformat_minor": 5
}
